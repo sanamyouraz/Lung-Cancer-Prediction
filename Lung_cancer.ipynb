{
 "cells": [
  {
   "cell_type": "markdown",
   "id": "a4d44270",
   "metadata": {},
   "source": [
    "# Import Libraries "
   ]
  },
  {
   "cell_type": "code",
   "execution_count": 1,
   "id": "ccc974e6",
   "metadata": {},
   "outputs": [],
   "source": [
    "import numpy as np\n",
    "import pandas as pd\n",
    "import seaborn as sns\n",
    "from sklearn.model_selection import train_test_split\n",
    "from sklearn.ensemble import RandomForestClassifier\n",
    "from sklearn.metrics import accuracy_score\n",
    "from sklearn.metrics import confusion_matrix\n",
    "from sklearn.metrics import precision_score\n",
    "from sklearn.metrics import recall_score\n",
    "from sklearn.metrics import f1_score\n"
   ]
  },
  {
   "cell_type": "markdown",
   "id": "d0e47909",
   "metadata": {},
   "source": [
    "# Data collection and Analysis"
   ]
  },
  {
   "cell_type": "code",
   "execution_count": 2,
   "id": "a7f97988",
   "metadata": {},
   "outputs": [],
   "source": [
    "# Loading the cancer patient data sets to a pandas DataFrame\n",
    "cancer = pd.read_csv(r'C:\\Users\\Sabikun Nahar\\Desktop\\lung\\lung\\cancer-patient-data-sets.csv')"
   ]
  },
  {
   "cell_type": "code",
   "execution_count": 3,
   "id": "a27a10c1",
   "metadata": {},
   "outputs": [
    {
     "data": {
      "text/html": [
       "<div>\n",
       "<style scoped>\n",
       "    .dataframe tbody tr th:only-of-type {\n",
       "        vertical-align: middle;\n",
       "    }\n",
       "\n",
       "    .dataframe tbody tr th {\n",
       "        vertical-align: top;\n",
       "    }\n",
       "\n",
       "    .dataframe thead th {\n",
       "        text-align: right;\n",
       "    }\n",
       "</style>\n",
       "<table border=\"1\" class=\"dataframe\">\n",
       "  <thead>\n",
       "    <tr style=\"text-align: right;\">\n",
       "      <th></th>\n",
       "      <th>index</th>\n",
       "      <th>Patient Id</th>\n",
       "      <th>Age</th>\n",
       "      <th>Gender</th>\n",
       "      <th>Air Pollution</th>\n",
       "      <th>Alcohol use</th>\n",
       "      <th>Dust Allergy</th>\n",
       "      <th>OccuPational Hazards</th>\n",
       "      <th>Genetic Risk</th>\n",
       "      <th>chronic Lung Disease</th>\n",
       "      <th>...</th>\n",
       "      <th>Fatigue</th>\n",
       "      <th>Weight Loss</th>\n",
       "      <th>Shortness of Breath</th>\n",
       "      <th>Wheezing</th>\n",
       "      <th>Swallowing Difficulty</th>\n",
       "      <th>Clubbing of Finger Nails</th>\n",
       "      <th>Frequent Cold</th>\n",
       "      <th>Dry Cough</th>\n",
       "      <th>Snoring</th>\n",
       "      <th>Level</th>\n",
       "    </tr>\n",
       "  </thead>\n",
       "  <tbody>\n",
       "    <tr>\n",
       "      <th>0</th>\n",
       "      <td>0</td>\n",
       "      <td>P1</td>\n",
       "      <td>33</td>\n",
       "      <td>1</td>\n",
       "      <td>2</td>\n",
       "      <td>4</td>\n",
       "      <td>5</td>\n",
       "      <td>4</td>\n",
       "      <td>3</td>\n",
       "      <td>2</td>\n",
       "      <td>...</td>\n",
       "      <td>3</td>\n",
       "      <td>4</td>\n",
       "      <td>2</td>\n",
       "      <td>2</td>\n",
       "      <td>3</td>\n",
       "      <td>1</td>\n",
       "      <td>2</td>\n",
       "      <td>3</td>\n",
       "      <td>4</td>\n",
       "      <td>Low</td>\n",
       "    </tr>\n",
       "    <tr>\n",
       "      <th>1</th>\n",
       "      <td>1</td>\n",
       "      <td>P10</td>\n",
       "      <td>17</td>\n",
       "      <td>1</td>\n",
       "      <td>3</td>\n",
       "      <td>1</td>\n",
       "      <td>5</td>\n",
       "      <td>3</td>\n",
       "      <td>4</td>\n",
       "      <td>2</td>\n",
       "      <td>...</td>\n",
       "      <td>1</td>\n",
       "      <td>3</td>\n",
       "      <td>7</td>\n",
       "      <td>8</td>\n",
       "      <td>6</td>\n",
       "      <td>2</td>\n",
       "      <td>1</td>\n",
       "      <td>7</td>\n",
       "      <td>2</td>\n",
       "      <td>Medium</td>\n",
       "    </tr>\n",
       "    <tr>\n",
       "      <th>2</th>\n",
       "      <td>2</td>\n",
       "      <td>P100</td>\n",
       "      <td>35</td>\n",
       "      <td>1</td>\n",
       "      <td>4</td>\n",
       "      <td>5</td>\n",
       "      <td>6</td>\n",
       "      <td>5</td>\n",
       "      <td>5</td>\n",
       "      <td>4</td>\n",
       "      <td>...</td>\n",
       "      <td>8</td>\n",
       "      <td>7</td>\n",
       "      <td>9</td>\n",
       "      <td>2</td>\n",
       "      <td>1</td>\n",
       "      <td>4</td>\n",
       "      <td>6</td>\n",
       "      <td>7</td>\n",
       "      <td>2</td>\n",
       "      <td>High</td>\n",
       "    </tr>\n",
       "    <tr>\n",
       "      <th>3</th>\n",
       "      <td>3</td>\n",
       "      <td>P1000</td>\n",
       "      <td>37</td>\n",
       "      <td>1</td>\n",
       "      <td>7</td>\n",
       "      <td>7</td>\n",
       "      <td>7</td>\n",
       "      <td>7</td>\n",
       "      <td>6</td>\n",
       "      <td>7</td>\n",
       "      <td>...</td>\n",
       "      <td>4</td>\n",
       "      <td>2</td>\n",
       "      <td>3</td>\n",
       "      <td>1</td>\n",
       "      <td>4</td>\n",
       "      <td>5</td>\n",
       "      <td>6</td>\n",
       "      <td>7</td>\n",
       "      <td>5</td>\n",
       "      <td>High</td>\n",
       "    </tr>\n",
       "    <tr>\n",
       "      <th>4</th>\n",
       "      <td>4</td>\n",
       "      <td>P101</td>\n",
       "      <td>46</td>\n",
       "      <td>1</td>\n",
       "      <td>6</td>\n",
       "      <td>8</td>\n",
       "      <td>7</td>\n",
       "      <td>7</td>\n",
       "      <td>7</td>\n",
       "      <td>6</td>\n",
       "      <td>...</td>\n",
       "      <td>3</td>\n",
       "      <td>2</td>\n",
       "      <td>4</td>\n",
       "      <td>1</td>\n",
       "      <td>4</td>\n",
       "      <td>2</td>\n",
       "      <td>4</td>\n",
       "      <td>2</td>\n",
       "      <td>3</td>\n",
       "      <td>High</td>\n",
       "    </tr>\n",
       "  </tbody>\n",
       "</table>\n",
       "<p>5 rows × 26 columns</p>\n",
       "</div>"
      ],
      "text/plain": [
       "   index Patient Id  Age  Gender  Air Pollution  Alcohol use  Dust Allergy  \\\n",
       "0      0         P1   33       1              2            4             5   \n",
       "1      1        P10   17       1              3            1             5   \n",
       "2      2       P100   35       1              4            5             6   \n",
       "3      3      P1000   37       1              7            7             7   \n",
       "4      4       P101   46       1              6            8             7   \n",
       "\n",
       "   OccuPational Hazards  Genetic Risk  chronic Lung Disease  ...  Fatigue  \\\n",
       "0                     4             3                     2  ...        3   \n",
       "1                     3             4                     2  ...        1   \n",
       "2                     5             5                     4  ...        8   \n",
       "3                     7             6                     7  ...        4   \n",
       "4                     7             7                     6  ...        3   \n",
       "\n",
       "   Weight Loss  Shortness of Breath  Wheezing  Swallowing Difficulty  \\\n",
       "0            4                    2         2                      3   \n",
       "1            3                    7         8                      6   \n",
       "2            7                    9         2                      1   \n",
       "3            2                    3         1                      4   \n",
       "4            2                    4         1                      4   \n",
       "\n",
       "   Clubbing of Finger Nails  Frequent Cold  Dry Cough  Snoring   Level  \n",
       "0                         1              2          3        4     Low  \n",
       "1                         2              1          7        2  Medium  \n",
       "2                         4              6          7        2    High  \n",
       "3                         5              6          7        5    High  \n",
       "4                         2              4          2        3    High  \n",
       "\n",
       "[5 rows x 26 columns]"
      ]
     },
     "execution_count": 3,
     "metadata": {},
     "output_type": "execute_result"
    }
   ],
   "source": [
    "# Print the first 5 rows of the dataset \n",
    "cancer.head()"
   ]
  },
  {
   "cell_type": "code",
   "execution_count": 4,
   "id": "877c8ef8",
   "metadata": {},
   "outputs": [
    {
     "data": {
      "text/plain": [
       "(1000, 26)"
      ]
     },
     "execution_count": 4,
     "metadata": {},
     "output_type": "execute_result"
    }
   ],
   "source": [
    "# number of rows and columns in this dataset\n",
    "cancer.shape"
   ]
  },
  {
   "cell_type": "code",
   "execution_count": 5,
   "id": "0a9c9bf0",
   "metadata": {},
   "outputs": [
    {
     "data": {
      "text/plain": [
       "index                       0\n",
       "Patient Id                  0\n",
       "Age                         0\n",
       "Gender                      0\n",
       "Air Pollution               0\n",
       "Alcohol use                 0\n",
       "Dust Allergy                0\n",
       "OccuPational Hazards        0\n",
       "Genetic Risk                0\n",
       "chronic Lung Disease        0\n",
       "Balanced Diet               0\n",
       "Obesity                     0\n",
       "Smoking                     0\n",
       "Passive Smoker              0\n",
       "Chest Pain                  0\n",
       "Coughing of Blood           0\n",
       "Fatigue                     0\n",
       "Weight Loss                 0\n",
       "Shortness of Breath         0\n",
       "Wheezing                    0\n",
       "Swallowing Difficulty       0\n",
       "Clubbing of Finger Nails    0\n",
       "Frequent Cold               0\n",
       "Dry Cough                   0\n",
       "Snoring                     0\n",
       "Level                       0\n",
       "dtype: int64"
      ]
     },
     "execution_count": 5,
     "metadata": {},
     "output_type": "execute_result"
    }
   ],
   "source": [
    "# Checking for missing values\n",
    "cancer.isnull().sum()"
   ]
  },
  {
   "cell_type": "code",
   "execution_count": 6,
   "id": "479f999c",
   "metadata": {},
   "outputs": [],
   "source": [
    "# Replace the value in level column\n",
    "cancer = cancer.replace({'Level': {'Low': 0, 'Medium': 1,'High': 1}})"
   ]
  },
  {
   "cell_type": "code",
   "execution_count": 7,
   "id": "9a103d7a",
   "metadata": {},
   "outputs": [
    {
     "data": {
      "text/html": [
       "<div>\n",
       "<style scoped>\n",
       "    .dataframe tbody tr th:only-of-type {\n",
       "        vertical-align: middle;\n",
       "    }\n",
       "\n",
       "    .dataframe tbody tr th {\n",
       "        vertical-align: top;\n",
       "    }\n",
       "\n",
       "    .dataframe thead th {\n",
       "        text-align: right;\n",
       "    }\n",
       "</style>\n",
       "<table border=\"1\" class=\"dataframe\">\n",
       "  <thead>\n",
       "    <tr style=\"text-align: right;\">\n",
       "      <th></th>\n",
       "      <th>index</th>\n",
       "      <th>Patient Id</th>\n",
       "      <th>Age</th>\n",
       "      <th>Gender</th>\n",
       "      <th>Air Pollution</th>\n",
       "      <th>Alcohol use</th>\n",
       "      <th>Dust Allergy</th>\n",
       "      <th>OccuPational Hazards</th>\n",
       "      <th>Genetic Risk</th>\n",
       "      <th>chronic Lung Disease</th>\n",
       "      <th>...</th>\n",
       "      <th>Fatigue</th>\n",
       "      <th>Weight Loss</th>\n",
       "      <th>Shortness of Breath</th>\n",
       "      <th>Wheezing</th>\n",
       "      <th>Swallowing Difficulty</th>\n",
       "      <th>Clubbing of Finger Nails</th>\n",
       "      <th>Frequent Cold</th>\n",
       "      <th>Dry Cough</th>\n",
       "      <th>Snoring</th>\n",
       "      <th>Level</th>\n",
       "    </tr>\n",
       "  </thead>\n",
       "  <tbody>\n",
       "    <tr>\n",
       "      <th>0</th>\n",
       "      <td>0</td>\n",
       "      <td>P1</td>\n",
       "      <td>33</td>\n",
       "      <td>1</td>\n",
       "      <td>2</td>\n",
       "      <td>4</td>\n",
       "      <td>5</td>\n",
       "      <td>4</td>\n",
       "      <td>3</td>\n",
       "      <td>2</td>\n",
       "      <td>...</td>\n",
       "      <td>3</td>\n",
       "      <td>4</td>\n",
       "      <td>2</td>\n",
       "      <td>2</td>\n",
       "      <td>3</td>\n",
       "      <td>1</td>\n",
       "      <td>2</td>\n",
       "      <td>3</td>\n",
       "      <td>4</td>\n",
       "      <td>0</td>\n",
       "    </tr>\n",
       "    <tr>\n",
       "      <th>1</th>\n",
       "      <td>1</td>\n",
       "      <td>P10</td>\n",
       "      <td>17</td>\n",
       "      <td>1</td>\n",
       "      <td>3</td>\n",
       "      <td>1</td>\n",
       "      <td>5</td>\n",
       "      <td>3</td>\n",
       "      <td>4</td>\n",
       "      <td>2</td>\n",
       "      <td>...</td>\n",
       "      <td>1</td>\n",
       "      <td>3</td>\n",
       "      <td>7</td>\n",
       "      <td>8</td>\n",
       "      <td>6</td>\n",
       "      <td>2</td>\n",
       "      <td>1</td>\n",
       "      <td>7</td>\n",
       "      <td>2</td>\n",
       "      <td>1</td>\n",
       "    </tr>\n",
       "    <tr>\n",
       "      <th>2</th>\n",
       "      <td>2</td>\n",
       "      <td>P100</td>\n",
       "      <td>35</td>\n",
       "      <td>1</td>\n",
       "      <td>4</td>\n",
       "      <td>5</td>\n",
       "      <td>6</td>\n",
       "      <td>5</td>\n",
       "      <td>5</td>\n",
       "      <td>4</td>\n",
       "      <td>...</td>\n",
       "      <td>8</td>\n",
       "      <td>7</td>\n",
       "      <td>9</td>\n",
       "      <td>2</td>\n",
       "      <td>1</td>\n",
       "      <td>4</td>\n",
       "      <td>6</td>\n",
       "      <td>7</td>\n",
       "      <td>2</td>\n",
       "      <td>1</td>\n",
       "    </tr>\n",
       "    <tr>\n",
       "      <th>3</th>\n",
       "      <td>3</td>\n",
       "      <td>P1000</td>\n",
       "      <td>37</td>\n",
       "      <td>1</td>\n",
       "      <td>7</td>\n",
       "      <td>7</td>\n",
       "      <td>7</td>\n",
       "      <td>7</td>\n",
       "      <td>6</td>\n",
       "      <td>7</td>\n",
       "      <td>...</td>\n",
       "      <td>4</td>\n",
       "      <td>2</td>\n",
       "      <td>3</td>\n",
       "      <td>1</td>\n",
       "      <td>4</td>\n",
       "      <td>5</td>\n",
       "      <td>6</td>\n",
       "      <td>7</td>\n",
       "      <td>5</td>\n",
       "      <td>1</td>\n",
       "    </tr>\n",
       "    <tr>\n",
       "      <th>4</th>\n",
       "      <td>4</td>\n",
       "      <td>P101</td>\n",
       "      <td>46</td>\n",
       "      <td>1</td>\n",
       "      <td>6</td>\n",
       "      <td>8</td>\n",
       "      <td>7</td>\n",
       "      <td>7</td>\n",
       "      <td>7</td>\n",
       "      <td>6</td>\n",
       "      <td>...</td>\n",
       "      <td>3</td>\n",
       "      <td>2</td>\n",
       "      <td>4</td>\n",
       "      <td>1</td>\n",
       "      <td>4</td>\n",
       "      <td>2</td>\n",
       "      <td>4</td>\n",
       "      <td>2</td>\n",
       "      <td>3</td>\n",
       "      <td>1</td>\n",
       "    </tr>\n",
       "  </tbody>\n",
       "</table>\n",
       "<p>5 rows × 26 columns</p>\n",
       "</div>"
      ],
      "text/plain": [
       "   index Patient Id  Age  Gender  Air Pollution  Alcohol use  Dust Allergy  \\\n",
       "0      0         P1   33       1              2            4             5   \n",
       "1      1        P10   17       1              3            1             5   \n",
       "2      2       P100   35       1              4            5             6   \n",
       "3      3      P1000   37       1              7            7             7   \n",
       "4      4       P101   46       1              6            8             7   \n",
       "\n",
       "   OccuPational Hazards  Genetic Risk  chronic Lung Disease  ...  Fatigue  \\\n",
       "0                     4             3                     2  ...        3   \n",
       "1                     3             4                     2  ...        1   \n",
       "2                     5             5                     4  ...        8   \n",
       "3                     7             6                     7  ...        4   \n",
       "4                     7             7                     6  ...        3   \n",
       "\n",
       "   Weight Loss  Shortness of Breath  Wheezing  Swallowing Difficulty  \\\n",
       "0            4                    2         2                      3   \n",
       "1            3                    7         8                      6   \n",
       "2            7                    9         2                      1   \n",
       "3            2                    3         1                      4   \n",
       "4            2                    4         1                      4   \n",
       "\n",
       "   Clubbing of Finger Nails  Frequent Cold  Dry Cough  Snoring  Level  \n",
       "0                         1              2          3        4      0  \n",
       "1                         2              1          7        2      1  \n",
       "2                         4              6          7        2      1  \n",
       "3                         5              6          7        5      1  \n",
       "4                         2              4          2        3      1  \n",
       "\n",
       "[5 rows x 26 columns]"
      ]
     },
     "execution_count": 7,
     "metadata": {},
     "output_type": "execute_result"
    }
   ],
   "source": [
    "cancer.head()"
   ]
  },
  {
   "cell_type": "code",
   "execution_count": 8,
   "id": "09c18c1f",
   "metadata": {},
   "outputs": [
    {
     "data": {
      "text/html": [
       "<div>\n",
       "<style scoped>\n",
       "    .dataframe tbody tr th:only-of-type {\n",
       "        vertical-align: middle;\n",
       "    }\n",
       "\n",
       "    .dataframe tbody tr th {\n",
       "        vertical-align: top;\n",
       "    }\n",
       "\n",
       "    .dataframe thead th {\n",
       "        text-align: right;\n",
       "    }\n",
       "</style>\n",
       "<table border=\"1\" class=\"dataframe\">\n",
       "  <thead>\n",
       "    <tr style=\"text-align: right;\">\n",
       "      <th></th>\n",
       "      <th>index</th>\n",
       "      <th>Age</th>\n",
       "      <th>Gender</th>\n",
       "      <th>Air Pollution</th>\n",
       "      <th>Alcohol use</th>\n",
       "      <th>Dust Allergy</th>\n",
       "      <th>OccuPational Hazards</th>\n",
       "      <th>Genetic Risk</th>\n",
       "      <th>chronic Lung Disease</th>\n",
       "      <th>Balanced Diet</th>\n",
       "      <th>...</th>\n",
       "      <th>Fatigue</th>\n",
       "      <th>Weight Loss</th>\n",
       "      <th>Shortness of Breath</th>\n",
       "      <th>Wheezing</th>\n",
       "      <th>Swallowing Difficulty</th>\n",
       "      <th>Clubbing of Finger Nails</th>\n",
       "      <th>Frequent Cold</th>\n",
       "      <th>Dry Cough</th>\n",
       "      <th>Snoring</th>\n",
       "      <th>Level</th>\n",
       "    </tr>\n",
       "  </thead>\n",
       "  <tbody>\n",
       "    <tr>\n",
       "      <th>count</th>\n",
       "      <td>1000.000000</td>\n",
       "      <td>1000.000000</td>\n",
       "      <td>1000.000000</td>\n",
       "      <td>1000.0000</td>\n",
       "      <td>1000.000000</td>\n",
       "      <td>1000.000000</td>\n",
       "      <td>1000.000000</td>\n",
       "      <td>1000.000000</td>\n",
       "      <td>1000.000000</td>\n",
       "      <td>1000.000000</td>\n",
       "      <td>...</td>\n",
       "      <td>1000.000000</td>\n",
       "      <td>1000.000000</td>\n",
       "      <td>1000.000000</td>\n",
       "      <td>1000.000000</td>\n",
       "      <td>1000.000000</td>\n",
       "      <td>1000.000000</td>\n",
       "      <td>1000.000000</td>\n",
       "      <td>1000.000000</td>\n",
       "      <td>1000.000000</td>\n",
       "      <td>1000.000000</td>\n",
       "    </tr>\n",
       "    <tr>\n",
       "      <th>mean</th>\n",
       "      <td>499.500000</td>\n",
       "      <td>37.174000</td>\n",
       "      <td>1.402000</td>\n",
       "      <td>3.8400</td>\n",
       "      <td>4.563000</td>\n",
       "      <td>5.165000</td>\n",
       "      <td>4.840000</td>\n",
       "      <td>4.580000</td>\n",
       "      <td>4.380000</td>\n",
       "      <td>4.491000</td>\n",
       "      <td>...</td>\n",
       "      <td>3.856000</td>\n",
       "      <td>3.855000</td>\n",
       "      <td>4.240000</td>\n",
       "      <td>3.777000</td>\n",
       "      <td>3.746000</td>\n",
       "      <td>3.923000</td>\n",
       "      <td>3.536000</td>\n",
       "      <td>3.853000</td>\n",
       "      <td>2.926000</td>\n",
       "      <td>0.697000</td>\n",
       "    </tr>\n",
       "    <tr>\n",
       "      <th>std</th>\n",
       "      <td>288.819436</td>\n",
       "      <td>12.005493</td>\n",
       "      <td>0.490547</td>\n",
       "      <td>2.0304</td>\n",
       "      <td>2.620477</td>\n",
       "      <td>1.980833</td>\n",
       "      <td>2.107805</td>\n",
       "      <td>2.126999</td>\n",
       "      <td>1.848518</td>\n",
       "      <td>2.135528</td>\n",
       "      <td>...</td>\n",
       "      <td>2.244616</td>\n",
       "      <td>2.206546</td>\n",
       "      <td>2.285087</td>\n",
       "      <td>2.041921</td>\n",
       "      <td>2.270383</td>\n",
       "      <td>2.388048</td>\n",
       "      <td>1.832502</td>\n",
       "      <td>2.039007</td>\n",
       "      <td>1.474686</td>\n",
       "      <td>0.459785</td>\n",
       "    </tr>\n",
       "    <tr>\n",
       "      <th>min</th>\n",
       "      <td>0.000000</td>\n",
       "      <td>14.000000</td>\n",
       "      <td>1.000000</td>\n",
       "      <td>1.0000</td>\n",
       "      <td>1.000000</td>\n",
       "      <td>1.000000</td>\n",
       "      <td>1.000000</td>\n",
       "      <td>1.000000</td>\n",
       "      <td>1.000000</td>\n",
       "      <td>1.000000</td>\n",
       "      <td>...</td>\n",
       "      <td>1.000000</td>\n",
       "      <td>1.000000</td>\n",
       "      <td>1.000000</td>\n",
       "      <td>1.000000</td>\n",
       "      <td>1.000000</td>\n",
       "      <td>1.000000</td>\n",
       "      <td>1.000000</td>\n",
       "      <td>1.000000</td>\n",
       "      <td>1.000000</td>\n",
       "      <td>0.000000</td>\n",
       "    </tr>\n",
       "    <tr>\n",
       "      <th>25%</th>\n",
       "      <td>249.750000</td>\n",
       "      <td>27.750000</td>\n",
       "      <td>1.000000</td>\n",
       "      <td>2.0000</td>\n",
       "      <td>2.000000</td>\n",
       "      <td>4.000000</td>\n",
       "      <td>3.000000</td>\n",
       "      <td>2.000000</td>\n",
       "      <td>3.000000</td>\n",
       "      <td>2.000000</td>\n",
       "      <td>...</td>\n",
       "      <td>2.000000</td>\n",
       "      <td>2.000000</td>\n",
       "      <td>2.000000</td>\n",
       "      <td>2.000000</td>\n",
       "      <td>2.000000</td>\n",
       "      <td>2.000000</td>\n",
       "      <td>2.000000</td>\n",
       "      <td>2.000000</td>\n",
       "      <td>2.000000</td>\n",
       "      <td>0.000000</td>\n",
       "    </tr>\n",
       "    <tr>\n",
       "      <th>50%</th>\n",
       "      <td>499.500000</td>\n",
       "      <td>36.000000</td>\n",
       "      <td>1.000000</td>\n",
       "      <td>3.0000</td>\n",
       "      <td>5.000000</td>\n",
       "      <td>6.000000</td>\n",
       "      <td>5.000000</td>\n",
       "      <td>5.000000</td>\n",
       "      <td>4.000000</td>\n",
       "      <td>4.000000</td>\n",
       "      <td>...</td>\n",
       "      <td>3.000000</td>\n",
       "      <td>3.000000</td>\n",
       "      <td>4.000000</td>\n",
       "      <td>4.000000</td>\n",
       "      <td>4.000000</td>\n",
       "      <td>4.000000</td>\n",
       "      <td>3.000000</td>\n",
       "      <td>4.000000</td>\n",
       "      <td>3.000000</td>\n",
       "      <td>1.000000</td>\n",
       "    </tr>\n",
       "    <tr>\n",
       "      <th>75%</th>\n",
       "      <td>749.250000</td>\n",
       "      <td>45.000000</td>\n",
       "      <td>2.000000</td>\n",
       "      <td>6.0000</td>\n",
       "      <td>7.000000</td>\n",
       "      <td>7.000000</td>\n",
       "      <td>7.000000</td>\n",
       "      <td>7.000000</td>\n",
       "      <td>6.000000</td>\n",
       "      <td>7.000000</td>\n",
       "      <td>...</td>\n",
       "      <td>5.000000</td>\n",
       "      <td>6.000000</td>\n",
       "      <td>6.000000</td>\n",
       "      <td>5.000000</td>\n",
       "      <td>5.000000</td>\n",
       "      <td>5.000000</td>\n",
       "      <td>5.000000</td>\n",
       "      <td>6.000000</td>\n",
       "      <td>4.000000</td>\n",
       "      <td>1.000000</td>\n",
       "    </tr>\n",
       "    <tr>\n",
       "      <th>max</th>\n",
       "      <td>999.000000</td>\n",
       "      <td>73.000000</td>\n",
       "      <td>2.000000</td>\n",
       "      <td>8.0000</td>\n",
       "      <td>8.000000</td>\n",
       "      <td>8.000000</td>\n",
       "      <td>8.000000</td>\n",
       "      <td>7.000000</td>\n",
       "      <td>7.000000</td>\n",
       "      <td>7.000000</td>\n",
       "      <td>...</td>\n",
       "      <td>9.000000</td>\n",
       "      <td>8.000000</td>\n",
       "      <td>9.000000</td>\n",
       "      <td>8.000000</td>\n",
       "      <td>8.000000</td>\n",
       "      <td>9.000000</td>\n",
       "      <td>7.000000</td>\n",
       "      <td>7.000000</td>\n",
       "      <td>7.000000</td>\n",
       "      <td>1.000000</td>\n",
       "    </tr>\n",
       "  </tbody>\n",
       "</table>\n",
       "<p>8 rows × 25 columns</p>\n",
       "</div>"
      ],
      "text/plain": [
       "             index          Age       Gender  Air Pollution  Alcohol use  \\\n",
       "count  1000.000000  1000.000000  1000.000000      1000.0000  1000.000000   \n",
       "mean    499.500000    37.174000     1.402000         3.8400     4.563000   \n",
       "std     288.819436    12.005493     0.490547         2.0304     2.620477   \n",
       "min       0.000000    14.000000     1.000000         1.0000     1.000000   \n",
       "25%     249.750000    27.750000     1.000000         2.0000     2.000000   \n",
       "50%     499.500000    36.000000     1.000000         3.0000     5.000000   \n",
       "75%     749.250000    45.000000     2.000000         6.0000     7.000000   \n",
       "max     999.000000    73.000000     2.000000         8.0000     8.000000   \n",
       "\n",
       "       Dust Allergy  OccuPational Hazards  Genetic Risk  chronic Lung Disease  \\\n",
       "count   1000.000000           1000.000000   1000.000000           1000.000000   \n",
       "mean       5.165000              4.840000      4.580000              4.380000   \n",
       "std        1.980833              2.107805      2.126999              1.848518   \n",
       "min        1.000000              1.000000      1.000000              1.000000   \n",
       "25%        4.000000              3.000000      2.000000              3.000000   \n",
       "50%        6.000000              5.000000      5.000000              4.000000   \n",
       "75%        7.000000              7.000000      7.000000              6.000000   \n",
       "max        8.000000              8.000000      7.000000              7.000000   \n",
       "\n",
       "       Balanced Diet  ...      Fatigue  Weight Loss  Shortness of Breath  \\\n",
       "count    1000.000000  ...  1000.000000  1000.000000          1000.000000   \n",
       "mean        4.491000  ...     3.856000     3.855000             4.240000   \n",
       "std         2.135528  ...     2.244616     2.206546             2.285087   \n",
       "min         1.000000  ...     1.000000     1.000000             1.000000   \n",
       "25%         2.000000  ...     2.000000     2.000000             2.000000   \n",
       "50%         4.000000  ...     3.000000     3.000000             4.000000   \n",
       "75%         7.000000  ...     5.000000     6.000000             6.000000   \n",
       "max         7.000000  ...     9.000000     8.000000             9.000000   \n",
       "\n",
       "          Wheezing  Swallowing Difficulty  Clubbing of Finger Nails  \\\n",
       "count  1000.000000            1000.000000               1000.000000   \n",
       "mean      3.777000               3.746000                  3.923000   \n",
       "std       2.041921               2.270383                  2.388048   \n",
       "min       1.000000               1.000000                  1.000000   \n",
       "25%       2.000000               2.000000                  2.000000   \n",
       "50%       4.000000               4.000000                  4.000000   \n",
       "75%       5.000000               5.000000                  5.000000   \n",
       "max       8.000000               8.000000                  9.000000   \n",
       "\n",
       "       Frequent Cold    Dry Cough      Snoring        Level  \n",
       "count    1000.000000  1000.000000  1000.000000  1000.000000  \n",
       "mean        3.536000     3.853000     2.926000     0.697000  \n",
       "std         1.832502     2.039007     1.474686     0.459785  \n",
       "min         1.000000     1.000000     1.000000     0.000000  \n",
       "25%         2.000000     2.000000     2.000000     0.000000  \n",
       "50%         3.000000     4.000000     3.000000     1.000000  \n",
       "75%         5.000000     6.000000     4.000000     1.000000  \n",
       "max         7.000000     7.000000     7.000000     1.000000  \n",
       "\n",
       "[8 rows x 25 columns]"
      ]
     },
     "execution_count": 8,
     "metadata": {},
     "output_type": "execute_result"
    }
   ],
   "source": [
    "# Statistical measure about the data\n",
    "cancer.describe()"
   ]
  },
  {
   "cell_type": "code",
   "execution_count": 9,
   "id": "40de5115",
   "metadata": {},
   "outputs": [
    {
     "name": "stdout",
     "output_type": "stream",
     "text": [
      "1    697\n",
      "0    303\n",
      "Name: Level, dtype: int64\n"
     ]
    }
   ],
   "source": [
    "target = cancer['Level']\n",
    "print(pd.value_counts(target))"
   ]
  },
  {
   "cell_type": "code",
   "execution_count": 43,
   "id": "c2d66f66",
   "metadata": {},
   "outputs": [
    {
     "name": "stdout",
     "output_type": "stream",
     "text": [
      "Percentage of 1 in Original DataSet :  69.69999999999999 %\n",
      "Percentage of 0 in Original DataSet :  30.3 %\n"
     ]
    }
   ],
   "source": [
    "print('Percentage of 1 in Original DataSet : ',(697/1000)*100,'%')\n",
    "print('Percentage of 0 in Original DataSet : ',(303/1000)*100,'%')"
   ]
  },
  {
   "cell_type": "markdown",
   "id": "b48e4bb8",
   "metadata": {},
   "source": [
    "# Separating the data and labels"
   ]
  },
  {
   "cell_type": "code",
   "execution_count": 11,
   "id": "b92e3f78",
   "metadata": {},
   "outputs": [],
   "source": [
    "train_data, test_data = train_test_split(cancer, test_size=0.3, \n",
    "random_state= 2)"
   ]
  },
  {
   "cell_type": "code",
   "execution_count": 12,
   "id": "86bf67d0",
   "metadata": {},
   "outputs": [
    {
     "name": "stdout",
     "output_type": "stream",
     "text": [
      "\n",
      "Shape of training data : (700, 26)\n"
     ]
    }
   ],
   "source": [
    "print('\\nShape of training data :',train_data.shape)"
   ]
  },
  {
   "cell_type": "code",
   "execution_count": 13,
   "id": "7297bc8a",
   "metadata": {},
   "outputs": [
    {
     "name": "stdout",
     "output_type": "stream",
     "text": [
      "1    486\n",
      "0    214\n",
      "Name: Level, dtype: int64\n"
     ]
    }
   ],
   "source": [
    "print(pd.value_counts(train_data['Level']))"
   ]
  },
  {
   "cell_type": "code",
   "execution_count": 42,
   "id": "00e77150",
   "metadata": {},
   "outputs": [
    {
     "name": "stdout",
     "output_type": "stream",
     "text": [
      "Percentage of 1 in Training DataSet :  69.42857142857143 %\n",
      "Percentage of 0 in Training DataSet :  30.571428571428573 %\n"
     ]
    }
   ],
   "source": [
    "print('Percentage of 1 in Training DataSet : ',(486/700)*100,'%')\n",
    "print('Percentage of 0 in Training DataSet : ',(214/700)*100,'%')"
   ]
  },
  {
   "cell_type": "code",
   "execution_count": 15,
   "id": "f8c5f10e",
   "metadata": {},
   "outputs": [
    {
     "name": "stdout",
     "output_type": "stream",
     "text": [
      "\n",
      "Shape of testing data : (300, 26)\n"
     ]
    }
   ],
   "source": [
    "print('\\nShape of testing data :',test_data.shape)"
   ]
  },
  {
   "cell_type": "code",
   "execution_count": 16,
   "id": "fa92ef0c",
   "metadata": {},
   "outputs": [
    {
     "name": "stdout",
     "output_type": "stream",
     "text": [
      "1    211\n",
      "0     89\n",
      "Name: Level, dtype: int64\n"
     ]
    }
   ],
   "source": [
    "print(pd.value_counts(test_data['Level']))"
   ]
  },
  {
   "cell_type": "code",
   "execution_count": 41,
   "id": "8105c9f8",
   "metadata": {},
   "outputs": [
    {
     "name": "stdout",
     "output_type": "stream",
     "text": [
      "Percentage of 1 in Testing DataSet :  70.33333333333334 %\n",
      "Percentage of 0 in Testing DataSet :  29.666666666666668 %\n"
     ]
    }
   ],
   "source": [
    "print('Percentage of 1 in Testing DataSet : ', (211/300)*100,'%')\n",
    "print('Percentage of 0 in Testing DataSet : ', (89/300)*100,'%')"
   ]
  },
  {
   "cell_type": "code",
   "execution_count": 18,
   "id": "2e3147f8",
   "metadata": {},
   "outputs": [],
   "source": [
    "train_data, test_data = train_test_split(cancer, test_size=0.3, \n",
    "random_state=2, stratify=target)"
   ]
  },
  {
   "cell_type": "markdown",
   "id": "42a74f6d",
   "metadata": {},
   "source": [
    "# Separate the independent and target variables"
   ]
  },
  {
   "cell_type": "code",
   "execution_count": 19,
   "id": "cfde31a7",
   "metadata": {},
   "outputs": [],
   "source": [
    "train_x = train_data.drop(columns=['index','Patient Id','Level'],axis=1)\n",
    "train_y = train_data['Level']"
   ]
  },
  {
   "cell_type": "code",
   "execution_count": 20,
   "id": "77598a21",
   "metadata": {},
   "outputs": [],
   "source": [
    "test_x = test_data.drop(columns=['index','Patient Id','Level'],axis=1)\n",
    "test_y = test_data['Level']"
   ]
  },
  {
   "cell_type": "code",
   "execution_count": 21,
   "id": "78c86bb6",
   "metadata": {},
   "outputs": [
    {
     "name": "stdout",
     "output_type": "stream",
     "text": [
      "(700, 23) (700,)\n"
     ]
    }
   ],
   "source": [
    "print(train_x.shape,\n",
    "train_y.shape)"
   ]
  },
  {
   "cell_type": "markdown",
   "id": "de4f5565",
   "metadata": {},
   "source": [
    "# Machine Learning Model \n",
    "## RandomForestClassifier"
   ]
  },
  {
   "cell_type": "code",
   "execution_count": 22,
   "id": "ca165d03",
   "metadata": {},
   "outputs": [],
   "source": [
    "model = RandomForestClassifier()"
   ]
  },
  {
   "cell_type": "code",
   "execution_count": 23,
   "id": "48169c99",
   "metadata": {},
   "outputs": [
    {
     "data": {
      "text/plain": [
       "RandomForestClassifier()"
      ]
     },
     "execution_count": 23,
     "metadata": {},
     "output_type": "execute_result"
    }
   ],
   "source": [
    "model.fit(train_x,train_y)"
   ]
  },
  {
   "cell_type": "code",
   "execution_count": 24,
   "id": "c7854cfe",
   "metadata": {},
   "outputs": [
    {
     "name": "stdout",
     "output_type": "stream",
     "text": [
      "Number of trees used :  100\n"
     ]
    }
   ],
   "source": [
    "# number of trees used\n",
    "print('Number of trees used : ',model.n_estimators)"
   ]
  },
  {
   "cell_type": "markdown",
   "id": "e6786290",
   "metadata": {},
   "source": [
    "# Predict and Accuracy Score"
   ]
  },
  {
   "cell_type": "code",
   "execution_count": 25,
   "id": "4828336a",
   "metadata": {},
   "outputs": [],
   "source": [
    "# Accuracy score on the training data \n",
    "predict_X_train = model.predict(train_x)\n",
    "training_accuracy = accuracy_score(predict_X_train , train_y)"
   ]
  },
  {
   "cell_type": "code",
   "execution_count": 26,
   "id": "1b65f481",
   "metadata": {},
   "outputs": [
    {
     "name": "stdout",
     "output_type": "stream",
     "text": [
      "Accuracy score on training data :  1.0\n"
     ]
    }
   ],
   "source": [
    "print('Accuracy score on training data : ',training_accuracy)"
   ]
  },
  {
   "cell_type": "code",
   "execution_count": 27,
   "id": "23fcd510",
   "metadata": {},
   "outputs": [],
   "source": [
    "# Accuracy score on the test data\n",
    "predict_X_test = model.predict(test_x)\n",
    "test_accuracy = accuracy_score(predict_X_test , test_y)"
   ]
  },
  {
   "cell_type": "code",
   "execution_count": 28,
   "id": "bb6a0ad7",
   "metadata": {},
   "outputs": [
    {
     "name": "stdout",
     "output_type": "stream",
     "text": [
      "Accuracy score on test data :  1.0\n"
     ]
    }
   ],
   "source": [
    "print('Accuracy score on test data : ',test_accuracy)"
   ]
  },
  {
   "cell_type": "markdown",
   "id": "bff46893",
   "metadata": {},
   "source": [
    "# Confusion Matrix"
   ]
  },
  {
   "cell_type": "code",
   "execution_count": 29,
   "id": "67443c04",
   "metadata": {},
   "outputs": [
    {
     "name": "stdout",
     "output_type": "stream",
     "text": [
      "[[212   0]\n",
      " [  0 488]]\n",
      "212 0 0 488\n"
     ]
    }
   ],
   "source": [
    "c_m_train = confusion_matrix(train_y,predict_X_train)\n",
    "print(c_m_train)\n",
    "tn,fp,fn,tp = c_m_train.ravel()\n",
    "print(tn,fp,fn,tp)"
   ]
  },
  {
   "cell_type": "code",
   "execution_count": 30,
   "id": "9d777b85",
   "metadata": {},
   "outputs": [
    {
     "name": "stdout",
     "output_type": "stream",
     "text": [
      "[[ 91   0]\n",
      " [  0 209]]\n",
      "91 0 0 209\n"
     ]
    }
   ],
   "source": [
    "c_m_test = confusion_matrix(test_y,predict_X_test)\n",
    "print(c_m_test)\n",
    "tn,fp,fn,tp = c_m_test.ravel()\n",
    "print(tn,fp,fn,tp)"
   ]
  },
  {
   "cell_type": "markdown",
   "id": "7e371774",
   "metadata": {},
   "source": [
    " # Precision Score"
   ]
  },
  {
   "cell_type": "code",
   "execution_count": 31,
   "id": "93880f7e",
   "metadata": {},
   "outputs": [
    {
     "name": "stdout",
     "output_type": "stream",
     "text": [
      "Training data precision :  1.0\n"
     ]
    }
   ],
   "source": [
    "# Precision for training data \n",
    "precision_train = precision_score(train_y , predict_X_train)\n",
    "print('Training data precision : ',precision_train)"
   ]
  },
  {
   "cell_type": "code",
   "execution_count": 32,
   "id": "191c271e",
   "metadata": {},
   "outputs": [
    {
     "name": "stdout",
     "output_type": "stream",
     "text": [
      "Testing data precision :  1.0\n"
     ]
    }
   ],
   "source": [
    "# Precision for testing data \n",
    "precision_test = precision_score(test_y , predict_X_test)\n",
    "print('Testing data precision : ',precision_test)"
   ]
  },
  {
   "cell_type": "markdown",
   "id": "635d0418",
   "metadata": {},
   "source": [
    "# Recall Score "
   ]
  },
  {
   "cell_type": "code",
   "execution_count": 33,
   "id": "501e7cd4",
   "metadata": {},
   "outputs": [
    {
     "name": "stdout",
     "output_type": "stream",
     "text": [
      "Training data recall :  1.0\n"
     ]
    }
   ],
   "source": [
    "# Recall for training data \n",
    "recall_train = recall_score(train_y , predict_X_train)\n",
    "print('Training data recall : ',recall_train)"
   ]
  },
  {
   "cell_type": "code",
   "execution_count": 34,
   "id": "2b6b9c9e",
   "metadata": {},
   "outputs": [
    {
     "name": "stdout",
     "output_type": "stream",
     "text": [
      "Testing data recall :  1.0\n"
     ]
    }
   ],
   "source": [
    "# Recall for testing data \n",
    "recall_test = recall_score(test_y , predict_X_test)\n",
    "print('Testing data recall : ',recall_test)"
   ]
  },
  {
   "cell_type": "markdown",
   "id": "4c12f0d9",
   "metadata": {},
   "source": [
    "# F1 Score "
   ]
  },
  {
   "cell_type": "code",
   "execution_count": 35,
   "id": "d1c63a1e",
   "metadata": {},
   "outputs": [
    {
     "name": "stdout",
     "output_type": "stream",
     "text": [
      "Training data f1 :  1.0\n"
     ]
    }
   ],
   "source": [
    "# F1_Score for training data \n",
    "f1_train = f1_score(train_y , predict_X_train)\n",
    "print('Training data f1 : ',f1_train)"
   ]
  },
  {
   "cell_type": "code",
   "execution_count": 36,
   "id": "09b5fef7",
   "metadata": {},
   "outputs": [
    {
     "name": "stdout",
     "output_type": "stream",
     "text": [
      "Testing data f1 :  1.0\n"
     ]
    }
   ],
   "source": [
    " # F1_Score for testing data \n",
    "f1_test = f1_score(test_y , predict_X_test)\n",
    "print('Testing data f1 : ',f1_test)"
   ]
  },
  {
   "cell_type": "markdown",
   "id": "c12cef11",
   "metadata": {},
   "source": [
    "# Plot Roc and compare Auc"
   ]
  },
  {
   "cell_type": "code",
   "execution_count": 37,
   "id": "d8c4706d",
   "metadata": {},
   "outputs": [],
   "source": [
    "import matplotlib.pyplot as plt\n",
    "from sklearn.metrics import RocCurveDisplay"
   ]
  },
  {
   "cell_type": "code",
   "execution_count": 38,
   "id": "0514eccc",
   "metadata": {},
   "outputs": [
    {
     "data": {
      "image/png": "[encoded data removed]",
      "text/plain": [
       "<Figure size 640x480 with 1 Axes>"
      ]
     },
     "metadata": {},
     "output_type": "display_data"
    }
   ],
   "source": [
    "model_disp = RocCurveDisplay.from_estimator(model,test_x,test_y)\n",
    "plt.show()"
   ]
  },
  {
   "cell_type": "markdown",
   "id": "ac4fca05",
   "metadata": {},
   "source": [
    "# Feature importances :the higher ,the more important the feature"
   ]
  },
  {
   "cell_type": "code",
   "execution_count": 39,
   "id": "fac4f3c5",
   "metadata": {},
   "outputs": [
    {
     "data": {
      "image/png": "[encoded data removed]",
      "text/plain": [
       "<Figure size 640x480 with 1 Axes>"
      ]
     },
     "metadata": {},
     "output_type": "display_data"
    }
   ],
   "source": [
    "    features = cancer.columns\n",
    "    importances = model.feature_importances_\n",
    "    indices = np.argsort(importances)\n",
    "    plt.title('Important Features')\n",
    "    plt.barh(range(len(indices)),importances[indices],color='b')\n",
    "    plt.yticks(range(len(indices)),[features[i] for i in indices])\n",
    "    plt.xlabel('Relative Importance')\n",
    "    plt.show()\n",
    "    "
   ]
  },
  {
   "cell_type": "code",
   "execution_count": null,
   "id": "8bb8a9a8",
   "metadata": {},
   "outputs": [],
   "source": []
  },
  {
   "cell_type": "code",
   "execution_count": null,
   "id": "ce803fe6",
   "metadata": {},
   "outputs": [],
   "source": []
  }
 ],
 "metadata": {
  "kernelspec": {
   "display_name": "Python 3 (ipykernel)",
   "language": "python",
   "name": "python3"
  },
  "language_info": {
   "codemirror_mode": {
    "name": "ipython",
    "version": 3
   },
   "file_extension": ".py",
   "mimetype": "text/x-python",
   "name": "python",
   "nbconvert_exporter": "python",
   "pygments_lexer": "ipython3",
   "version": "3.7.6"
  }
 },
 "nbformat": 4,
 "nbformat_minor": 5
}
